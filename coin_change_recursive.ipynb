{
 "cells": [
  {
   "cell_type": "code",
   "execution_count": 13,
   "id": "f5694e32-095b-4b26-9854-7372ab07fadb",
   "metadata": {},
   "outputs": [],
   "source": [
    "def coin_change_sol(s: [int], n: int) ->[[int]]:\n",
    "    sols = []\n",
    "    \n",
    "    def coin_change(s: [int], n: int, sols, sol=[]) -> int:\n",
    "        if n < 0:\n",
    "            return 0\n",
    "\n",
    "        if n == 0:\n",
    "            sols += [sol]\n",
    "            return 1\n",
    "\n",
    "        if len(s) == 0:\n",
    "            return 0\n",
    "\n",
    "        return coin_change(s, n-s[-1], sols, sol +[s[-1]]) + coin_change(s[:-1], n, sols, sol)\n",
    "    return coin_change(s, n, sols), sols"
   ]
  },
  {
   "cell_type": "code",
   "execution_count": 14,
   "id": "f60301d0-7f35-4eca-b481-ae65f2ee1f56",
   "metadata": {},
   "outputs": [
    {
     "data": {
      "text/plain": [
       "(5, [[3, 2], [3, 1, 1], [2, 2, 1], [2, 1, 1, 1], [1, 1, 1, 1, 1]])"
      ]
     },
     "execution_count": 14,
     "metadata": {},
     "output_type": "execute_result"
    }
   ],
   "source": [
    "coin_change_sol([1, 2, 3], 5)"
   ]
  },
  {
   "cell_type": "code",
   "execution_count": null,
   "id": "d8a3cc69-6943-4f3f-98a7-71281a68436b",
   "metadata": {},
   "outputs": [],
   "source": []
  }
 ],
 "metadata": {
  "kernelspec": {
   "display_name": "Python 3 (ipykernel)",
   "language": "python",
   "name": "python3"
  },
  "language_info": {
   "codemirror_mode": {
    "name": "ipython",
    "version": 3
   },
   "file_extension": ".py",
   "mimetype": "text/x-python",
   "name": "python",
   "nbconvert_exporter": "python",
   "pygments_lexer": "ipython3",
   "version": "3.10.4"
  }
 },
 "nbformat": 4,
 "nbformat_minor": 5
}
