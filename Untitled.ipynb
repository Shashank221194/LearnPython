{
 "cells": [
  {
   "cell_type": "code",
   "execution_count": 10,
   "id": "ef683b48-5d41-4b2d-ad79-5bb435d56f01",
   "metadata": {},
   "outputs": [],
   "source": [
    "def count(S, m, n ):\n",
    " \n",
    "    # If n is 0 then there is 1\n",
    "    # solution (do not include any coin)\n",
    "    if (n == 0):\n",
    "        return 1\n",
    " \n",
    "    # If n is less than 0 then no\n",
    "    # solution exists\n",
    "    if (n < 0):\n",
    "        return 0;\n",
    " \n",
    "    # If there are no coins and n\n",
    "    # is greater than 0, then no\n",
    "    # solution exist\n",
    "    if (m <=0 and n >= 1):\n",
    "        return 0\n",
    " \n",
    "    # count is sum of solutions (i)\n",
    "    # including S[m-1] (ii) excluding S[m-1]\n",
    "    return count( S, m - 1, n ) + count( S, m, n-S[m-1] );"
   ]
  },
  {
   "cell_type": "code",
   "execution_count": 11,
   "id": "ad0e32cc-bd23-4ddf-916d-1dd351b2da6f",
   "metadata": {},
   "outputs": [
    {
     "name": "stdout",
     "output_type": "stream",
     "text": [
      "4\n"
     ]
    }
   ],
   "source": [
    "arr = [1, 2, 3]\n",
    "m = len(arr)\n",
    "print(count(arr, m, 4))"
   ]
  },
  {
   "cell_type": "code",
   "execution_count": null,
   "id": "a5c4854c-d52a-44b4-a05a-e45ac0ecdf72",
   "metadata": {},
   "outputs": [],
   "source": []
  }
 ],
 "metadata": {
  "kernelspec": {
   "display_name": "Python 3 (ipykernel)",
   "language": "python",
   "name": "python3"
  },
  "language_info": {
   "codemirror_mode": {
    "name": "ipython",
    "version": 3
   },
   "file_extension": ".py",
   "mimetype": "text/x-python",
   "name": "python",
   "nbconvert_exporter": "python",
   "pygments_lexer": "ipython3",
   "version": "3.10.4"
  }
 },
 "nbformat": 4,
 "nbformat_minor": 5
}
