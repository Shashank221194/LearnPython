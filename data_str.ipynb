{
 "cells": [
  {
   "cell_type": "code",
   "execution_count": 43,
   "id": "b85b1b0e-6531-4e15-8ae9-85f532268d2d",
   "metadata": {},
   "outputs": [],
   "source": [
    "class Folder:\n",
    "    def __init__(self, name):\n",
    "        self.Name = name\n",
    "        self.Folders = []\n",
    "        self.Files = []\n",
    "\n",
    "    def add_folder(self, folder):\n",
    "        self.Folders += [folder]\n",
    "\n",
    "    def add_file(self, file):\n",
    "        self.Files += [file]\n",
    "        \n",
    "    def get_files(self):\n",
    "        all_files = self.Files\n",
    "        for f in self.Folders:\n",
    "            all_files += f.get_files()\n",
    "        return all_files\n",
    "    \n",
    "class Files:\n",
    "    def __init__(self, name):\n",
    "        self.Name = name"
   ]
  },
  {
   "cell_type": "code",
   "execution_count": 44,
   "id": "f4c88935-05e0-44e6-b419-f72ada1778dd",
   "metadata": {},
   "outputs": [],
   "source": [
    "f = Folder('n1')"
   ]
  },
  {
   "cell_type": "code",
   "execution_count": 45,
   "id": "310435b0-2799-4802-9a96-d86ee676548f",
   "metadata": {},
   "outputs": [
    {
     "name": "stdout",
     "output_type": "stream",
     "text": [
      "n1\n"
     ]
    }
   ],
   "source": [
    "print(f.Name)"
   ]
  },
  {
   "cell_type": "code",
   "execution_count": 46,
   "id": "236e1624-86ea-40b7-8d84-aeba081b9c10",
   "metadata": {},
   "outputs": [],
   "source": [
    "f2 = Folder('n2')"
   ]
  },
  {
   "cell_type": "code",
   "execution_count": 47,
   "id": "c68d38a9-aa55-4a2a-8fef-00e5d3c9c26b",
   "metadata": {},
   "outputs": [],
   "source": [
    "f.add_folder(f2)"
   ]
  },
  {
   "cell_type": "code",
   "execution_count": 48,
   "id": "72a7de77-a0bf-4c18-9aea-af3dd432c80d",
   "metadata": {},
   "outputs": [],
   "source": [
    "f2.add_file(Files('new_file'))"
   ]
  },
  {
   "cell_type": "code",
   "execution_count": 49,
   "id": "ba131e90-4012-4b78-8764-525d49161980",
   "metadata": {},
   "outputs": [
    {
     "data": {
      "text/plain": [
       "1"
      ]
     },
     "execution_count": 49,
     "metadata": {},
     "output_type": "execute_result"
    }
   ],
   "source": [
    "len(f.Folders)"
   ]
  },
  {
   "cell_type": "code",
   "execution_count": 50,
   "id": "91076110-f402-4a29-a676-d6b098096c56",
   "metadata": {},
   "outputs": [
    {
     "data": {
      "text/plain": [
       "0"
      ]
     },
     "execution_count": 50,
     "metadata": {},
     "output_type": "execute_result"
    }
   ],
   "source": [
    "len(f.Files)"
   ]
  },
  {
   "cell_type": "code",
   "execution_count": 51,
   "id": "ecbbcfcd-b899-48c6-9ba6-289d434b563c",
   "metadata": {},
   "outputs": [
    {
     "name": "stdout",
     "output_type": "stream",
     "text": [
      "[['new_file']]\n"
     ]
    }
   ],
   "source": [
    "print([[x.Name for x in fol.Files] for fol in f.Folders])"
   ]
  },
  {
   "cell_type": "code",
   "execution_count": 52,
   "id": "d3de6f04-5fd6-4189-9b3a-aa361b9a121b",
   "metadata": {},
   "outputs": [
    {
     "name": "stdout",
     "output_type": "stream",
     "text": [
      "['new_file']\n"
     ]
    }
   ],
   "source": [
    "print([x.Name for x in f.get_files()])"
   ]
  },
  {
   "cell_type": "code",
   "execution_count": 114,
   "id": "3d98f835-5a15-48d1-bc68-673ec1f6f1f9",
   "metadata": {},
   "outputs": [],
   "source": [
    "class Node:\n",
    "    def __init__(self, n):\n",
    "        self.N = n\n",
    "        self.left_node = None\n",
    "        self.right_node = None\n",
    "\n",
    "    def set_left_node(self, ln):\n",
    "        self.left_node = ln\n",
    "    \n",
    "    def set_right_node(self, rn):\n",
    "        self.right_node = rn\n",
    "        \n",
    "    def __str__(self):\n",
    "        st = str(self.N)\n",
    "        st += f'[left node: {self.left_node}, right node: {self.right_node}]'\n",
    "        return st\n",
    "        \n",
    "    def is_bst(self):\n",
    "        if self.left_node is None and self.right_node is None:\n",
    "            return True\n",
    "        \n",
    "        if self.left_node is None:\n",
    "            return self.right_node.N > self.N and self.right_node.is_bst()\n",
    "        \n",
    "        if self.right_node is None:\n",
    "            return self.left_node.N < self.N and self.left_node.is_bst()        \n",
    "        \n",
    "        return self.left_node.N < self.N and self.right_node.N > self.N and self.left_node.is_bst() and self.right_node.is_bst()"
   ]
  },
  {
   "cell_type": "code",
   "execution_count": 122,
   "id": "416ea98a-f15d-4eec-894c-4206eda89186",
   "metadata": {},
   "outputs": [],
   "source": [
    "n1 = Node(1)\n",
    "n2 = Node(2)\n",
    "n3 = Node(3)\n",
    "n4 = Node(4) \n",
    "n5 = Node(5)\n",
    "n3.set_left_node(n2)\n",
    "n3.set_right_node(n4)\n",
    "n4.set_right_node(n5)"
   ]
  },
  {
   "cell_type": "code",
   "execution_count": 126,
   "id": "e63f822a-a8ef-4627-a192-9dafbe6623bd",
   "metadata": {},
   "outputs": [
    {
     "name": "stdout",
     "output_type": "stream",
     "text": [
      "3[left node: 2[left node: None, right node: None], right node: 4[left node: None, right node: 5[left node: None, right node: None]]]\n"
     ]
    }
   ],
   "source": [
    "print(n3)"
   ]
  },
  {
   "cell_type": "code",
   "execution_count": 124,
   "id": "a30f5243-3c59-4759-b03e-533c3df9f6a4",
   "metadata": {},
   "outputs": [
    {
     "data": {
      "text/plain": [
       "True"
      ]
     },
     "execution_count": 124,
     "metadata": {},
     "output_type": "execute_result"
    }
   ],
   "source": [
    "n1.is_bst()"
   ]
  },
  {
   "cell_type": "code",
   "execution_count": 125,
   "id": "e8821f97-10b8-492d-8840-7b98ba39bca6",
   "metadata": {},
   "outputs": [
    {
     "data": {
      "text/plain": [
       "True"
      ]
     },
     "execution_count": 125,
     "metadata": {},
     "output_type": "execute_result"
    }
   ],
   "source": [
    "n4.is_bst()"
   ]
  },
  {
   "cell_type": "code",
   "execution_count": null,
   "id": "1e8c9904-f9e7-4fab-a178-4e04064e37e0",
   "metadata": {},
   "outputs": [],
   "source": []
  }
 ],
 "metadata": {
  "kernelspec": {
   "display_name": "Python 3 (ipykernel)",
   "language": "python",
   "name": "python3"
  },
  "language_info": {
   "codemirror_mode": {
    "name": "ipython",
    "version": 3
   },
   "file_extension": ".py",
   "mimetype": "text/x-python",
   "name": "python",
   "nbconvert_exporter": "python",
   "pygments_lexer": "ipython3",
   "version": "3.10.4"
  }
 },
 "nbformat": 4,
 "nbformat_minor": 5
}
