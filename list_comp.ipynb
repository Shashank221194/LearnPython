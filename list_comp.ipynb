{
 "cells": [
  {
   "cell_type": "code",
   "execution_count": 1,
   "id": "953ae679-5f7d-492e-83fb-354be8b92094",
   "metadata": {},
   "outputs": [
    {
     "name": "stdout",
     "output_type": "stream",
     "text": [
      "GeeksforGeeks\n"
     ]
    }
   ],
   "source": [
    "x =\"GeeksforGeeks\"\n",
    "(lambda x : print(x))(x)"
   ]
  },
  {
   "cell_type": "code",
   "execution_count": 7,
   "id": "8f188b9f-97f7-4d39-ac7b-c7040e957cc7",
   "metadata": {},
   "outputs": [],
   "source": [
    "def pow(n):\n",
    "    return lambda x: x**n\n",
    "    \n",
    "g = pow(2)"
   ]
  },
  {
   "cell_type": "code",
   "execution_count": 8,
   "id": "7e7df779-002a-46c4-b568-3841481702fe",
   "metadata": {},
   "outputs": [
    {
     "data": {
      "text/plain": [
       "9"
      ]
     },
     "execution_count": 8,
     "metadata": {},
     "output_type": "execute_result"
    }
   ],
   "source": [
    "g(3)"
   ]
  },
  {
   "cell_type": "code",
   "execution_count": 152,
   "id": "47d9258a-cd3b-4b58-bd49-0700229a5774",
   "metadata": {},
   "outputs": [],
   "source": [
    "a = [100, 2, 8, 60, 5, 4, 3, 31, 10, 11]"
   ]
  },
  {
   "cell_type": "code",
   "execution_count": 156,
   "id": "c47c9882-9f50-495b-ae3e-f5be2425d59c",
   "metadata": {},
   "outputs": [],
   "source": [
    "filtered = map(lambda x: x**2 - 4*x + 4 == 0, a)"
   ]
  },
  {
   "cell_type": "code",
   "execution_count": 157,
   "id": "4f837c16-3328-4c9b-ad9d-d1e3fb2b3647",
   "metadata": {},
   "outputs": [
    {
     "name": "stdout",
     "output_type": "stream",
     "text": [
      "[False, True, False, False, False, False, False, False, False, False]\n"
     ]
    }
   ],
   "source": [
    "print(list(filtered))"
   ]
  },
  {
   "cell_type": "code",
   "execution_count": 76,
   "id": "6572ef63-a6de-438d-9ad1-75f168e2e508",
   "metadata": {},
   "outputs": [],
   "source": [
    "def fib():\n",
    "    a = 0\n",
    "    b = 1\n",
    "    while True:\n",
    "        yield a\n",
    "        a, b = b, a+b\n",
    "    \n",
    "        "
   ]
  },
  {
   "cell_type": "code",
   "execution_count": 129,
   "id": "06a235c3-5d01-4ad2-8980-cd4f67474a33",
   "metadata": {
    "tags": []
   },
   "outputs": [
    {
     "name": "stdout",
     "output_type": "stream",
     "text": [
      "0\n",
      "1\n",
      "1\n",
      "2\n",
      "3\n",
      "5\n",
      "8\n",
      "13\n",
      "21\n",
      "34\n"
     ]
    }
   ],
   "source": [
    "x = fib()\n",
    "for _ in range(10):\n",
    "    print(x.__next__())\n"
   ]
  },
  {
   "cell_type": "code",
   "execution_count": 136,
   "id": "82b7cc31-e077-4641-ac84-0194e16f1d99",
   "metadata": {},
   "outputs": [
    {
     "data": {
      "text/plain": [
       "['Ex_0',\n",
       " 'Ex_1',\n",
       " 'Ex_2',\n",
       " 'Ex_3',\n",
       " 'Ex_4',\n",
       " 'Ex_5',\n",
       " 'Ex_6',\n",
       " 'Ex_7',\n",
       " 'Ex_8',\n",
       " 'Ex_9']"
      ]
     },
     "execution_count": 136,
     "metadata": {},
     "output_type": "execute_result"
    }
   ],
   "source": [
    "index = [f'Ex_{x}' for x in range(10)]\n",
    "index"
   ]
  },
  {
   "cell_type": "code",
   "execution_count": 88,
   "id": "19d07b38-1600-4a1c-88bd-53e8b77a855b",
   "metadata": {},
   "outputs": [
    {
     "name": "stdout",
     "output_type": "stream",
     "text": [
      "['Ex_0', 'Ex_1', 'Ex_2', 'Ex_3', 'Ex_4', 'Ex_5', 'Ex_6', 'Ex_7', 'Ex_8', 'Ex_9']\n"
     ]
    }
   ],
   "source": [
    "a = []\n",
    "for i in range(10):\n",
    "    a = a + [f'Ex_{i}']\n",
    "print(a)"
   ]
  },
  {
   "cell_type": "code",
   "execution_count": 137,
   "id": "bb2edc98-e80f-41aa-83f5-842f70d967b7",
   "metadata": {},
   "outputs": [],
   "source": [
    "x = fib()\n",
    "list1 = [x.__next__() for _ in range(10)]"
   ]
  },
  {
   "cell_type": "code",
   "execution_count": 138,
   "id": "2f9e9908-062b-4fbe-a923-66de2626ad52",
   "metadata": {},
   "outputs": [
    {
     "data": {
      "text/plain": [
       "[0, 1, 1, 2, 3, 5, 8, 13, 21, 34]"
      ]
     },
     "execution_count": 138,
     "metadata": {},
     "output_type": "execute_result"
    }
   ],
   "source": [
    "list1"
   ]
  },
  {
   "cell_type": "code",
   "execution_count": 144,
   "id": "c32ca19d-ebc6-42b6-a4c3-d1f706e8e56e",
   "metadata": {},
   "outputs": [
    {
     "data": {
      "text/plain": [
       "[[4, 6], [10, 15], [16, 24], [22, 33], [28, 42], [34, 51]]"
      ]
     },
     "execution_count": 144,
     "metadata": {},
     "output_type": "execute_result"
    }
   ],
   "source": [
    "x = [[2*i, 3*i] for i in range(2,20)[::3]]\n",
    "x"
   ]
  },
  {
   "cell_type": "code",
   "execution_count": 142,
   "id": "40756e48-a21a-4c37-82ec-df53e1856391",
   "metadata": {},
   "outputs": [
    {
     "data": {
      "text/plain": [
       "[[],\n",
       " [0],\n",
       " [0, 1],\n",
       " [0, 1, 2],\n",
       " [0, 1, 2, 3],\n",
       " [0, 1, 2, 3, 4],\n",
       " [0, 1, 2, 3, 4, 5],\n",
       " [0, 1, 2, 3, 4, 5, 6],\n",
       " [0, 1, 2, 3, 4, 5, 6, 7],\n",
       " [0, 1, 2, 3, 4, 5, 6, 7, 8]]"
      ]
     },
     "execution_count": 142,
     "metadata": {},
     "output_type": "execute_result"
    }
   ],
   "source": [
    "#get list of numbers\n",
    "def getlist(n):\n",
    "    return [i for i in range(n)]\n",
    "y = [getlist(x) for x in range(10)]\n",
    "y"
   ]
  },
  {
   "cell_type": "code",
   "execution_count": 140,
   "id": "f55448b9-6d6d-4261-a3e9-968368db644f",
   "metadata": {},
   "outputs": [
    {
     "data": {
      "text/plain": [
       "[[],\n",
       " [0],\n",
       " [0, 1],\n",
       " [0, 1, 2],\n",
       " [0, 1, 2, 3],\n",
       " [0, 1, 2, 3, 4],\n",
       " [0, 1, 2, 3, 4, 5],\n",
       " [0, 1, 2, 3, 4, 5, 6],\n",
       " [0, 1, 2, 3, 4, 5, 6, 7],\n",
       " [0, 1, 2, 3, 4, 5, 6, 7, 8]]"
      ]
     },
     "execution_count": 140,
     "metadata": {},
     "output_type": "execute_result"
    }
   ],
   "source": [
    "y = [[i for i in range(n)] for n in range(10)]\n",
    "y"
   ]
  },
  {
   "cell_type": "code",
   "execution_count": 149,
   "id": "c9d6d678-55cb-4afe-80b6-8e096e180abd",
   "metadata": {},
   "outputs": [
    {
     "name": "stdout",
     "output_type": "stream",
     "text": [
      "[[], [0], [0, 1], [0, 1, 2], [0, 1, 2, 3], [0, 1, 2, 3, 4], [0, 1, 2, 3, 4, 5], [0, 1, 2, 3, 4, 5, 6], [0, 1, 2, 3, 4, 5, 6, 7], [0, 1, 2, 3, 4, 5, 6, 7, 8]]\n"
     ]
    }
   ],
   "source": [
    "y = map(lambda n: [i for i in range(n)], range(10))\n",
    "print([x for x in y])"
   ]
  },
  {
   "cell_type": "code",
   "execution_count": 145,
   "id": "7476266e-558e-4304-8c6e-450f624a6195",
   "metadata": {},
   "outputs": [
    {
     "name": "stdout",
     "output_type": "stream",
     "text": [
      "[[], [0], [0, 1], [0, 1, 2], [0, 1, 2, 3], [0, 1, 2, 3, 4], [0, 1, 2, 3, 4, 5], [0, 1, 2, 3, 4, 5, 6], [0, 1, 2, 3, 4, 5, 6, 7], [0, 1, 2, 3, 4, 5, 6, 7, 8]]\n"
     ]
    }
   ],
   "source": [
    "y = map(getlist, range(10))\n",
    "print([x for x in y])"
   ]
  },
  {
   "cell_type": "code",
   "execution_count": 112,
   "id": "7df2b5f9-24f9-49cc-a168-cdcedf762d88",
   "metadata": {},
   "outputs": [
    {
     "data": {
      "text/plain": [
       "[[0, 0],\n",
       " [0, 1],\n",
       " [0, 2],\n",
       " [0, 3],\n",
       " [0, 4],\n",
       " [1, 0],\n",
       " [1, 1],\n",
       " [1, 2],\n",
       " [1, 3],\n",
       " [1, 4],\n",
       " [2, 0],\n",
       " [2, 1],\n",
       " [2, 2],\n",
       " [2, 3],\n",
       " [2, 4],\n",
       " [3, 0],\n",
       " [3, 1],\n",
       " [3, 2],\n",
       " [3, 3],\n",
       " [3, 4],\n",
       " [4, 0],\n",
       " [4, 1],\n",
       " [4, 2],\n",
       " [4, 3],\n",
       " [4, 4],\n",
       " [5, 0],\n",
       " [5, 1],\n",
       " [5, 2],\n",
       " [5, 3],\n",
       " [5, 4],\n",
       " [6, 0],\n",
       " [6, 1],\n",
       " [6, 2],\n",
       " [6, 3],\n",
       " [6, 4],\n",
       " [7, 0],\n",
       " [7, 1],\n",
       " [7, 2],\n",
       " [7, 3],\n",
       " [7, 4],\n",
       " [8, 0],\n",
       " [8, 1],\n",
       " [8, 2],\n",
       " [8, 3],\n",
       " [8, 4],\n",
       " [9, 0],\n",
       " [9, 1],\n",
       " [9, 2],\n",
       " [9, 3],\n",
       " [9, 4]]"
      ]
     },
     "execution_count": 112,
     "metadata": {},
     "output_type": "execute_result"
    }
   ],
   "source": [
    "x = [[y, z] for y in range(10) for z in range (5)]\n",
    "x"
   ]
  },
  {
   "cell_type": "code",
   "execution_count": 113,
   "id": "b73bbb5e-1c3e-48de-bac9-383c08fac22f",
   "metadata": {},
   "outputs": [],
   "source": [
    "x = [[y, z] for (y, z) in zip(range(10), range(9))]"
   ]
  },
  {
   "cell_type": "code",
   "execution_count": 117,
   "id": "e05794f7-f900-4737-99ff-fb6158a7192b",
   "metadata": {},
   "outputs": [
    {
     "name": "stdout",
     "output_type": "stream",
     "text": [
      "[0, 0]\n",
      "[1, 1]\n",
      "[2, 2]\n",
      "[3, 3]\n",
      "[4, 4]\n"
     ]
    }
   ],
   "source": [
    "x = range(9)\n",
    "y = range(5)\n",
    "for i in range(min(len(x), len(y))):\n",
    "    print([x[i], y[i]])"
   ]
  },
  {
   "cell_type": "code",
   "execution_count": 119,
   "id": "a6507906-185e-44fd-9f0d-fa07bcf7a6f0",
   "metadata": {},
   "outputs": [
    {
     "name": "stdout",
     "output_type": "stream",
     "text": [
      "[0, 0]\n",
      "[1, 1]\n",
      "[2, 2]\n",
      "[3, 3]\n",
      "[4, 4]\n",
      "[5, 5]\n",
      "[6, 6]\n",
      "[7, 7]\n",
      "[8, 8]\n"
     ]
    }
   ],
   "source": [
    "for (y, z) in zip(range(10), range(9)):\n",
    "    print([y, z])"
   ]
  },
  {
   "cell_type": "code",
   "execution_count": 120,
   "id": "5f802e04-c47b-475d-bc71-bdaab115afab",
   "metadata": {},
   "outputs": [
    {
     "name": "stdout",
     "output_type": "stream",
     "text": [
      "0 1\n",
      "1 2\n",
      "2 3\n",
      "3 4\n",
      "4 5\n",
      "5 6\n",
      "6 7\n",
      "7 8\n"
     ]
    }
   ],
   "source": [
    "x = range(1, 9)\n",
    "for i, a in enumerate(x):\n",
    "    print(i, a)"
   ]
  },
  {
   "cell_type": "code",
   "execution_count": null,
   "id": "d12d91af-c475-44d4-b97a-0e804bc638b8",
   "metadata": {},
   "outputs": [],
   "source": []
  }
 ],
 "metadata": {
  "kernelspec": {
   "display_name": "Python 3 (ipykernel)",
   "language": "python",
   "name": "python3"
  },
  "language_info": {
   "codemirror_mode": {
    "name": "ipython",
    "version": 3
   },
   "file_extension": ".py",
   "mimetype": "text/x-python",
   "name": "python",
   "nbconvert_exporter": "python",
   "pygments_lexer": "ipython3",
   "version": "3.10.4"
  }
 },
 "nbformat": 4,
 "nbformat_minor": 5
}
